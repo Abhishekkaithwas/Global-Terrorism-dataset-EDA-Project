{
  "nbformat": 4,
  "nbformat_minor": 0,
  "metadata": {
    "colab": {
      "private_outputs": true,
      "provenance": [],
      "collapsed_sections": [
        "vncDsAP0Gaoa",
        "FJNUwmbgGyua",
        "w6K7xa23Elo4",
        "yQaldy8SH6Dl",
        "PH-0ReGfmX4f",
        "mDgbUHAGgjLW",
        "O_i_v8NEhb9l",
        "HhfV-JJviCcP",
        "Y3lxredqlCYt",
        "3RnN4peoiCZX",
        "x71ZqKXriCWQ",
        "7hBIi_osiCS2",
        "JlHwYmJAmNHm",
        "35m5QtbWiB9F",
        "PoPl-ycgm1ru",
        "H0kj-8xxnORC",
        "nA9Y7ga8ng1Z",
        "PBTbrJXOngz2",
        "u3PMJOP6ngxN",
        "dauF4eBmngu3",
        "bKJF3rekwFvQ",
        "MSa1f5Uengrz",
        "GF8Ens_Soomf",
        "0wOQAZs5pc--",
        "K5QZ13OEpz2H",
        "lQ7QKXXCp7Bj",
        "448CDAPjqfQr",
        "KSlN3yHqYklG",
        "t6dVpIINYklI",
        "ijmpgYnKYklI",
        "-JiQyfWJYklI",
        "EM7whBJCYoAo",
        "fge-S5ZAYoAp",
        "85gYPyotYoAp",
        "RoGjAbkUYoAp",
        "4Of9eVA-YrdM",
        "iky9q4vBYrdO",
        "F6T5p64dYrdO",
        "y-Ehk30pYrdP",
        "bamQiAODYuh1",
        "QHF8YVU7Yuh3",
        "GwzvFGzlYuh3",
        "qYpmQ266Yuh3",
        "OH-pJp9IphqM",
        "bbFf2-_FphqN",
        "_ouA3fa0phqN",
        "Seke61FWphqN",
        "PIIx-8_IphqN",
        "t27r6nlMphqO",
        "r2jJGEOYphqO",
        "b0JNsNcRphqO",
        "BZR9WyysphqO",
        "jj7wYXLtphqO",
        "eZrbJ2SmphqO",
        "rFu4xreNphqO",
        "YJ55k-q6phqO",
        "gCFgpxoyphqP",
        "OVtJsKN_phqQ",
        "lssrdh5qphqQ",
        "U2RJ9gkRphqQ",
        "1M8mcRywphqQ",
        "tgIPom80phqQ",
        "JMzcOPDDphqR",
        "x-EpHcCOp1ci",
        "X_VqEhTip1ck",
        "8zGJKyg5p1ck",
        "PVzmfK_Ep1ck",
        "n3dbpmDWp1ck",
        "ylSl6qgtp1ck",
        "ZWILFDl5p1ck",
        "M7G43BXep1ck",
        "Ag9LCva-p1cl",
        "E6MkPsBcp1cl",
        "2cELzS2fp1cl",
        "3MPXvC8up1cl",
        "NC_X3p0fY2L0",
        "UV0SzAkaZNRQ",
        "YPEH6qLeZNRQ",
        "q29F0dvdveiT",
        "EXh0U9oCveiU",
        "22aHeOlLveiV",
        "JcMwzZxoAimU",
        "8G2x9gOozGDZ",
        "gCX9965dhzqZ",
        "gIfDvo9L0UH2"
      ],
      "include_colab_link": true
    },
    "kernelspec": {
      "name": "python3",
      "display_name": "Python 3"
    },
    "language_info": {
      "name": "python"
    }
  },
  "cells": [
    {
      "cell_type": "markdown",
      "metadata": {
        "id": "view-in-github",
        "colab_type": "text"
      },
      "source": [
        "<a href=\"https://colab.research.google.com/github/Abhishekkaithwas/Global-Terrorism-dataset-EDA-Project/blob/main/Myntra_Online_Retail_Customer_Segmentation_EDA.ipynb\" target=\"_parent\"><img src=\"https://colab.research.google.com/assets/colab-badge.svg\" alt=\"Open In Colab\"/></a>"
      ]
    },
    {
      "cell_type": "markdown",
      "source": [
        "# **Project Name**    -  Myntra Online Retail Customer Segmentation\n",
        "\n"
      ],
      "metadata": {
        "id": "vncDsAP0Gaoa"
      }
    },
    {
      "cell_type": "markdown",
      "source": [
        "##### **Project Type**    - EDA\n",
        "##### **Contribution**    - Individual\n"
      ],
      "metadata": {
        "id": "beRrZCGUAJYm"
      }
    },
    {
      "cell_type": "markdown",
      "source": [
        "# **Project Summary -**"
      ],
      "metadata": {
        "id": "FJNUwmbgGyua"
      }
    },
    {
      "cell_type": "markdown",
      "source": [
        "Myntra, a leading Indian online fashion retailer, employs customer segmentation to enhance its marketing strategies, improve customer experience, and drive sales. Customer segmentation involves dividing Myntra's diverse customer base into distinct groups based on shared characteristics such as demographics, purchasing behavior, preferences, and engagement patterns. This approach allows Myntra to tailor its offerings, promotions, and communication to meet the specific needs of each segment.\n",
        "\n",
        "Key segmentation criteria used by Myntra include:\n",
        "\n",
        "**Demographic Segmentation**: Grouping customers by age, gender, income, and location. For example, Myntra targets young adults with trendy fashion and working professionals with premium brands.\n",
        "\n",
        "**Behavioral Segmentation**: Analyzing purchasing habits, frequency of visits, average order value, and product preferences. Myntra identifies high-value customers, frequent shoppers, and those who respond to discounts or seasonal sales.\n",
        "\n",
        "**Psychographic Segmentation**: Understanding lifestyle, interests, and fashion preferences. Myntra caters to fitness enthusiasts with activewear, eco-conscious buyers with sustainable fashion, and luxury seekers with high-end brands.\n",
        "\n",
        "**Technographic Segmentation**: Segmenting based on the devices"
      ],
      "metadata": {
        "id": "F6v_1wHtG2nS"
      }
    },
    {
      "cell_type": "markdown",
      "source": [
        "# **GitHub Link -**"
      ],
      "metadata": {
        "id": "w6K7xa23Elo4"
      }
    },
    {
      "cell_type": "markdown",
      "source": [
        "Provide your GitHub Link here."
      ],
      "metadata": {
        "id": "h1o69JH3Eqqn"
      }
    },
    {
      "cell_type": "markdown",
      "source": [
        "# **Problem Statement**\n"
      ],
      "metadata": {
        "id": "yQaldy8SH6Dl"
      }
    },
    {
      "cell_type": "markdown",
      "source": [
        "Myntra, a leading online fashion retailer in India, faces the challenge of effectively understanding and catering to its diverse and rapidly growing customer base. With millions of users exhibiting varying preferences, purchasing behaviors, and engagement patterns, a one-size-fits-all approach to marketing, product recommendations, and customer engagement is no longer sufficient. The lack of a robust customer segmentation strategy leads to suboptimal targeting, missed sales opportunities, and reduced customer satisfaction.\n",
        "\n",
        "To address this, Myntra needs to implement a data-driven customer segmentation framework that categorizes its users into distinct groups based on demographics, behavioral patterns, psychographics, and technographics. This will enable the company to deliver personalized experiences, optimize marketing campaigns, and enhance customer retention. The primary challenge lies in accurately analyzing vast amounts of customer data, identifying meaningful segments, and translating these insights into actionable strategies that drive business growth and improve customer loyalty.\n",
        "\n",
        "The problem, therefore, is to develop and implement an effective customer segmentation model that empowers Myntra to better understand its customers, tailor its offerings, and maintain its competitive edge in the highly dynamic e-commerce landscape."
      ],
      "metadata": {
        "id": "DpeJGUA3kjGy"
      }
    },
    {
      "cell_type": "markdown",
      "source": [
        "#### **Define Your Business Objective?**"
      ],
      "metadata": {
        "id": "PH-0ReGfmX4f"
      }
    },
    {
      "cell_type": "markdown",
      "source": [
        "The primary purpose of analyzing this dataset is to extract valuable insights to enhance Myntra Gifts Ltd.'s business strategies. Specific goals include:\n",
        "\n",
        "1. Identifying Purchasing Trends:\n",
        "\n",
        "Understanding patterns in customer purchases over time, including seasonal trends and product preferences, to better align inventory and marketing strategies.\n",
        "\n",
        "2. Evaluating Product Performance:\n",
        "\n",
        "Assessing which products are most and least popular to optimize product offerings and make informed decisions about stock management and new product introductions.\n",
        "\n",
        "3. Understanding Customer Behavior:\n",
        "\n",
        "Analyzing customer buying habits, frequency of purchases, and geographic distribution to tailor marketing efforts and improve customer segmentation.\n",
        "\n",
        "4. Optimizing Pricing Strategies:\n",
        "\n",
        "Evaluating the relationship between unit prices and sales volume to refine pricing models and maximize revenue while ensuring competitive pricing.\n",
        "\n",
        "5. Streamlining Inventory Management:\n",
        "\n",
        "Using sales and demand data to enhance inventory planning, reduce instances of overstock and stockouts, and improve overall inventory efficiency."
      ],
      "metadata": {
        "id": "PhDvGCAqmjP1"
      }
    },
    {
      "cell_type": "markdown",
      "source": [
        "# **General Guidelines** : -  "
      ],
      "metadata": {
        "id": "mDgbUHAGgjLW"
      }
    },
    {
      "cell_type": "markdown",
      "source": [
        "1.   Well-structured, formatted, and commented code is required.\n",
        "2.   Exception Handling, Production Grade Code & Deployment Ready Code will be a plus. Those students will be awarded some additional credits.\n",
        "     \n",
        "     The additional credits will have advantages over other students during Star Student selection.\n",
        "       \n",
        "             [ Note: - Deployment Ready Code is defined as, the whole .ipynb notebook should be executable in one go\n",
        "                       without a single error logged. ]\n",
        "\n",
        "3.   Each and every logic should have proper comments.\n",
        "4. You may add as many number of charts you want. Make Sure for each and every chart the following format should be answered.\n",
        "        \n",
        "\n",
        "```\n",
        "# Chart visualization code\n",
        "```\n",
        "            \n",
        "\n",
        "*   Why did you pick the specific chart?\n",
        "*   What is/are the insight(s) found from the chart?\n",
        "* Will the gained insights help creating a positive business impact?\n",
        "Are there any insights that lead to negative growth? Justify with specific reason.\n",
        "\n",
        "5. You have to create at least 20 logical & meaningful charts having important insights.\n",
        "\n",
        "\n",
        "[ Hints : - Do the Vizualization in  a structured way while following \"UBM\" Rule.\n",
        "\n",
        "U - Univariate Analysis,\n",
        "\n",
        "B - Bivariate Analysis (Numerical - Categorical, Numerical - Numerical, Categorical - Categorical)\n",
        "\n",
        "M - Multivariate Analysis\n",
        " ]\n",
        "\n",
        "\n",
        "\n"
      ],
      "metadata": {
        "id": "ZrxVaUj-hHfC"
      }
    },
    {
      "cell_type": "markdown",
      "source": [
        "# ***Let's Begin !***"
      ],
      "metadata": {
        "id": "O_i_v8NEhb9l"
      }
    },
    {
      "cell_type": "markdown",
      "source": [
        "## ***1. Know Your Data***"
      ],
      "metadata": {
        "id": "HhfV-JJviCcP"
      }
    },
    {
      "cell_type": "markdown",
      "source": [
        "### Import Libraries"
      ],
      "metadata": {
        "id": "Y3lxredqlCYt"
      }
    },
    {
      "cell_type": "code",
      "source": [
        "# Import Libraries\n",
        "import pandas as pd\n",
        "import numpy as np\n",
        "import matplotlib.pyplot as plt\n",
        "import seaborn as sns\n",
        "from sklearn import datasets\n",
        "from sklearn.model_selection import train_test_split\n",
        "from sklearn.preprocessing import StandardScaler\n",
        "from sklearn.linear_model import LinearRegression"
      ],
      "metadata": {
        "id": "M8Vqi-pPk-HR"
      },
      "execution_count": null,
      "outputs": []
    },
    {
      "cell_type": "markdown",
      "source": [
        "### Dataset Loading"
      ],
      "metadata": {
        "id": "3RnN4peoiCZX"
      }
    },
    {
      "cell_type": "code",
      "source": [
        "# Load Dataset\n",
        "file_path = '/content/Myntra Copy of Online Retail.xlsx'\n",
        "df = pd.read_excel(file_path)\n",
        "print(df)"
      ],
      "metadata": {
        "id": "4CkvbW_SlZ_R"
      },
      "execution_count": null,
      "outputs": []
    },
    {
      "cell_type": "markdown",
      "source": [
        "### Dataset First View"
      ],
      "metadata": {
        "id": "x71ZqKXriCWQ"
      }
    },
    {
      "cell_type": "code",
      "source": [
        "# Dataset First Look\n",
        "df.head()"
      ],
      "metadata": {
        "id": "LWNFOSvLl09H"
      },
      "execution_count": null,
      "outputs": []
    },
    {
      "cell_type": "markdown",
      "source": [
        "### Dataset Rows & Columns count"
      ],
      "metadata": {
        "id": "7hBIi_osiCS2"
      }
    },
    {
      "cell_type": "code",
      "source": [
        "# Dataset Rows & Columns count\n",
        "num_rows, num_columns = df.shape\n",
        "print(f\"Number of rows:{num_rows}\")\n",
        "print(f\"Number of columns:{num_columns}\")"
      ],
      "metadata": {
        "id": "Kllu7SJgmLij"
      },
      "execution_count": null,
      "outputs": []
    },
    {
      "cell_type": "markdown",
      "source": [
        "### Dataset Information"
      ],
      "metadata": {
        "id": "JlHwYmJAmNHm"
      }
    },
    {
      "cell_type": "code",
      "source": [
        "# Dataset Info\n",
        "df.info()"
      ],
      "metadata": {
        "id": "e9hRXRi6meOf"
      },
      "execution_count": null,
      "outputs": []
    },
    {
      "cell_type": "markdown",
      "source": [
        "#### Duplicate Values"
      ],
      "metadata": {
        "id": "35m5QtbWiB9F"
      }
    },
    {
      "cell_type": "code",
      "source": [
        "# Dataset Duplicate Value Count\n",
        "duplicate_count = df.duplicated().sum()\n",
        "print(f\"Number of duplicate value:{duplicate_count}\")\n"
      ],
      "metadata": {
        "id": "1sLdpKYkmox0"
      },
      "execution_count": null,
      "outputs": []
    },
    {
      "cell_type": "markdown",
      "source": [
        "#### Missing Values/Null Values"
      ],
      "metadata": {
        "id": "PoPl-ycgm1ru"
      }
    },
    {
      "cell_type": "code",
      "source": [
        "# Missing Values/Null Values Count\n",
        "missing_values = df.isnull().sum()\n",
        "print(f\"Missing/null values count:{missing_values}\")"
      ],
      "metadata": {
        "id": "GgHWkxvamxVg"
      },
      "execution_count": null,
      "outputs": []
    },
    {
      "cell_type": "code",
      "source": [
        "# Visualizing the missing values\n",
        "plt.figure(figsize=(10, 6))\n",
        "sns.heatmap(df.isnull(), cmap='viridis', cbar=False)\n",
        "plt.title('Missing Values Heatmap')\n",
        "plt.show()"
      ],
      "metadata": {
        "id": "3q5wnI3om9sJ"
      },
      "execution_count": null,
      "outputs": []
    },
    {
      "cell_type": "markdown",
      "source": [
        "### What did you know about your dataset?"
      ],
      "metadata": {
        "id": "H0kj-8xxnORC"
      }
    },
    {
      "cell_type": "markdown",
      "source": [
        "We conclude that the dataset have most missing values in column CustomerID and after that column Description is having missing values."
      ],
      "metadata": {
        "id": "gfoNAAC-nUe_"
      }
    },
    {
      "cell_type": "markdown",
      "source": [
        "## ***2. Understanding Your Variables***"
      ],
      "metadata": {
        "id": "nA9Y7ga8ng1Z"
      }
    },
    {
      "cell_type": "code",
      "source": [
        "# Dataset Columns\n",
        "columns = df.columns\n",
        "print(f\"Dataset columns:{columns}\")"
      ],
      "metadata": {
        "id": "j7xfkqrt5Ag5"
      },
      "execution_count": null,
      "outputs": []
    },
    {
      "cell_type": "code",
      "source": [
        "# Dataset Describe\n",
        "df.describe()"
      ],
      "metadata": {
        "id": "DnOaZdaE5Q5t"
      },
      "execution_count": null,
      "outputs": []
    },
    {
      "cell_type": "markdown",
      "source": [
        "### Variables Description"
      ],
      "metadata": {
        "id": "PBTbrJXOngz2"
      }
    },
    {
      "cell_type": "markdown",
      "source": [
        "Variables and Their Statistics:\n",
        "\n",
        "\n",
        "***Quantity***:\n",
        "\n",
        "count: 541,909.000000\n",
        "\n",
        "Total number of non-null entries for Quantity.\n",
        "\n",
        "mean: 9.552250\n",
        "\n",
        "The average quantity of items purchased per transaction is 9.55.\n",
        "\n",
        "min: -80,995.000000\n",
        "\n",
        "The minimum quantity is -80,995, which is unusual (likely indicates returns or cancellations).\n",
        "\n",
        "25%: 1.000000\n",
        "\n",
        "25% of transactions have a quantity of 1 or less.\n",
        "\n",
        "50% (median): 3.000000\n",
        "\n",
        "The median quantity is 3, meaning half of the transactions have a quantity of 3 or less.\n",
        "\n",
        "75%: 10.000000\n",
        "\n",
        "75% of transactions have a quantity of 10 or less.\n",
        "\n",
        "max: 80,995.000000\n",
        "\n",
        "The maximum quantity is 80,995, which is unusually high (likely bulk purchases or errors).\n",
        "\n",
        "std: 218.081158\n",
        "\n",
        "The standard deviation is 218.08, indicating high variability in the quantity of items purchased.\n",
        "\n",
        "\n",
        "\n",
        "***InvoiceDate***:\n",
        "\n",
        "count: 541,909\n",
        "\n",
        "Total number of non-null entries for InvoiceDate.\n",
        "\n",
        "mean: 2011-07-04 13:34:57.156386048\n",
        "\n",
        "The average date and time of transactions is July 4, 2011, at 13:34:57.\n",
        "\n",
        "min: 2010-12-01 08:26:00\n",
        "\n",
        "The earliest transaction occurred on December 1, 2010, at 08:26:00.\n",
        "\n",
        "25%: 2011-03-28 11:34:00\n",
        "\n",
        "25% of transactions occurred on or before March 28, 2011, at 11:34:00.\n",
        "\n",
        "50% (median): 2011-07-19 17:17:00\n",
        "\n",
        "The median transaction date is July 19, 2011, at 17:17:00.\n",
        "\n",
        "75%: 2011-10-19 11:27:00\n",
        "\n",
        "75% of transactions occurred on or before October 19, 2011, at 11:27:00.\n",
        "\n",
        "max: 2011-12-09 12:50:00\n",
        "\n",
        "The latest transaction occurred on December 9, 2011, at 12:50:00.\n",
        "\n",
        "std: NaN\n",
        "\n",
        "Standard deviation is not applicable for datetime data.\n",
        "\n",
        "\n",
        "\n",
        "***UnitPrice***:\n",
        "\n",
        "count: 541,909.000000\n",
        "\n",
        "Total number of non-null entries for UnitPrice.\n",
        "\n",
        "mean: 4.611114\n",
        "\n",
        "The average unit price of items is $4.61.\n",
        "\n",
        "min: -11,062.060000\n",
        "\n",
        "The minimum unit price is -$11,062.06, which is unusual (likely indicates refunds or errors).\n",
        "\n",
        "25%: 1.250000\n",
        "\n",
        "25% of items have a unit price of $1.25 or less.\n",
        "\n",
        "50% (median): 2.080000\n",
        "\n",
        "The median unit price is **\n",
        "2.08\n",
        "∗\n",
        "∗\n",
        ",\n",
        "m\n",
        "e\n",
        "a\n",
        "n\n",
        "i\n",
        "n\n",
        "g\n",
        "h\n",
        "a\n",
        "l\n",
        "f\n",
        "o\n",
        "f\n",
        "t\n",
        "h\n",
        "e\n",
        "i\n",
        "t\n",
        "e\n",
        "m\n",
        "s\n",
        "h\n",
        "a\n",
        "v\n",
        "e\n",
        "a\n",
        "u\n",
        "n\n",
        "i\n",
        "t\n",
        "p\n",
        "r\n",
        "i\n",
        "c\n",
        "e\n",
        "o\n",
        "f\n",
        "2.08∗∗,meaninghalfoftheitemshaveaunitpriceof2.08 or less.\n",
        "\n",
        "75%: 4.130000\n",
        "\n",
        "75% of items have a unit price of $4.13 or less.\n",
        "\n",
        "max: 38,970.000000\n",
        "\n",
        "The maximum unit price is $38,970.00, which is unusually high (likely premium or special items).\n",
        "\n",
        "std: 96.759853\n",
        "\n",
        "The standard deviation is 96.76, indicating high variability in unit prices.\n",
        "\n",
        "\n",
        "\n",
        "***CustomerID***:\n",
        "\n",
        "count: 406,829.000000\n",
        "\n",
        "Total number of non-null entries for CustomerID (missing values exist).\n",
        "\n",
        "mean: 15,287.690570\n",
        "\n",
        "The average customer ID is 15,287.69 (not meaningful, as IDs are categorical).\n",
        "\n",
        "min: 12,346.000000\n",
        "\n",
        "The smallest customer ID is 12,346.\n",
        "\n",
        "25%: 13,953.000000\n",
        "\n",
        "25% of customer IDs are 13,953 or less.\n",
        "\n",
        "50% (median): 15,152.000000\n",
        "\n",
        "The median customer ID is 15,152.\n",
        "\n",
        "75%: 16,791.000000\n",
        "\n",
        "75% of customer IDs are 16,791 or less.\n",
        "\n",
        "max: 18,287.000000\n",
        "\n",
        "The largest customer ID is 18,287.\n",
        "\n",
        "std: 1,713.600303\n",
        "\n",
        "The standard deviation is 1,713.60, indicating variability in customer IDs (not meaningful for categorical data)."
      ],
      "metadata": {
        "id": "aJV4KIxSnxay"
      }
    },
    {
      "cell_type": "markdown",
      "source": [
        "### Check Unique Values for each variable."
      ],
      "metadata": {
        "id": "u3PMJOP6ngxN"
      }
    },
    {
      "cell_type": "code",
      "source": [
        "# Check Unique Values for each variable.\n",
        "unique_values = df.nunique()\n",
        "print(f\"Unique values for each variable:{unique_values}\")"
      ],
      "metadata": {
        "id": "zms12Yq5n-jE"
      },
      "execution_count": null,
      "outputs": []
    },
    {
      "cell_type": "markdown",
      "source": [
        "## 3. ***Data Wrangling***"
      ],
      "metadata": {
        "id": "dauF4eBmngu3"
      }
    },
    {
      "cell_type": "markdown",
      "source": [
        "### Data Wrangling Code"
      ],
      "metadata": {
        "id": "bKJF3rekwFvQ"
      }
    },
    {
      "cell_type": "code",
      "source": [
        "# Write your code to make your dataset analysis ready.\n",
        "# Drop rows with missing values in column CustomerID\n",
        "df_cleaned = df.dropna(subset=['CustomerID'])"
      ],
      "metadata": {
        "id": "wk-9a2fpoLcV"
      },
      "execution_count": null,
      "outputs": []
    },
    {
      "cell_type": "code",
      "source": [
        "#Fill missing values with default value(0)\n",
        "df['CustomerID']=df['CustomerID'].fillna(0)"
      ],
      "metadata": {
        "id": "EJpDZArsqXBQ"
      },
      "execution_count": null,
      "outputs": []
    },
    {
      "cell_type": "code",
      "source": [
        "#Fill missing values with a placeholder in column description\n",
        "df['Description']=df['Description'].fillna('Unknown')"
      ],
      "metadata": {
        "id": "2JRdsSPMq4lw"
      },
      "execution_count": null,
      "outputs": []
    },
    {
      "cell_type": "code",
      "source": [
        "#Check and remove duplicate rows\n",
        "df=df.drop_duplicates()"
      ],
      "metadata": {
        "id": "Kezw9VzurYxw"
      },
      "execution_count": null,
      "outputs": []
    },
    {
      "cell_type": "code",
      "source": [
        "#Filter negative quantities and prices in column Quantity and UnitPrice\n",
        "df=df[(df['Quantity']>=0) & (df['UnitPrice']>=0)]"
      ],
      "metadata": {
        "id": "PSU4ItlArwx4"
      },
      "execution_count": null,
      "outputs": []
    },
    {
      "cell_type": "code",
      "source": [
        "#Filter values more than 10,000\n",
        "df=df[(df['Quantity']<=10000) & (df['UnitPrice']<=10000)]"
      ],
      "metadata": {
        "id": "8P9RIrMyscKk"
      },
      "execution_count": null,
      "outputs": []
    },
    {
      "cell_type": "code",
      "source": [
        "#Converting CustomerID to integer\n",
        "df['CustomerID']=df['CustomerID'].astype(int)"
      ],
      "metadata": {
        "id": "n5YaeuPms2R4"
      },
      "execution_count": null,
      "outputs": []
    },
    {
      "cell_type": "code",
      "source": [
        "#Extract date and time components for invoice date\n",
        "df['InvoiceYear']=df['InvoiceDate'].dt.year\n",
        "df['InvoiceMonth']=df['InvoiceDate'].dt.month\n",
        "df['InvoiceDay']=df['InvoiceDate'].dt.day\n",
        "df['InvoiceHour']=df['InvoiceDate'].dt.hour"
      ],
      "metadata": {
        "id": "HUwTzc8QtLL0"
      },
      "execution_count": null,
      "outputs": []
    },
    {
      "cell_type": "code",
      "source": [
        "#create a total price column\n",
        "df['TotalPrice']=df['Quantity']*df['UnitPrice']"
      ],
      "metadata": {
        "id": "4oIgUSPYu6Be"
      },
      "execution_count": null,
      "outputs": []
    },
    {
      "cell_type": "code",
      "source": [
        "print(df)"
      ],
      "metadata": {
        "id": "ZVzCw_CqvRC-"
      },
      "execution_count": null,
      "outputs": []
    },
    {
      "cell_type": "code",
      "source": [
        "#Grouping and aggregating data\n",
        "#Total sales by country\n",
        "sales_by_country=df.groupby('Country')['TotalPrice'].sum().reset_index()\n",
        "print(sales_by_country)"
      ],
      "metadata": {
        "id": "EOvyaHEpw0Ec"
      },
      "execution_count": null,
      "outputs": []
    },
    {
      "cell_type": "code",
      "source": [
        "#avg quantity purchased per customer\n",
        "avg_quantity_per_customer=df.groupby('CustomerID')['Quantity'].mean().reset_index()\n",
        "print(avg_quantity_per_customer)"
      ],
      "metadata": {
        "id": "qGuN4_lpxZVc"
      },
      "execution_count": null,
      "outputs": []
    },
    {
      "cell_type": "code",
      "source": [
        "#NUmber of transactions per customer\n",
        "transactions_per_customer=df.groupby('CustomerID')['InvoiceNo'].nunique().reset_index()\n",
        "print(transactions_per_customer)"
      ],
      "metadata": {
        "id": "IZCY4WINx2is"
      },
      "execution_count": null,
      "outputs": []
    },
    {
      "cell_type": "code",
      "source": [
        "#Split data by year\n",
        "df_2010=df[df['InvoiceYear'] == 2010]\n",
        "df_2011=df[df['InvoiceYear'] == 2011]"
      ],
      "metadata": {
        "id": "ZYAeXtXHyYoD"
      },
      "execution_count": null,
      "outputs": []
    },
    {
      "cell_type": "code",
      "source": [
        "#Handling text data\n",
        "#Remove special characters\n",
        "df['Description']=df['Description'].str.replace(r'[^\\w\\s]', '', regex=True)\n"
      ],
      "metadata": {
        "id": "S6GXvQVTzrS4"
      },
      "execution_count": null,
      "outputs": []
    },
    {
      "cell_type": "markdown",
      "source": [
        "### What all manipulations have you done and insights you found?"
      ],
      "metadata": {
        "id": "MSa1f5Uengrz"
      }
    },
    {
      "cell_type": "markdown",
      "source": [
        "All the following manipulations have been done to the data:-\n",
        "\n",
        "1.Drop rows with missing values in column CustomerID.\n",
        "\n",
        "2.Fill missing values with default value(0).\n",
        "\n",
        "3.Fill missing values with a placeholder in column description.\n",
        "\n",
        "4.Check and remove duplicate rows.\n",
        "\n",
        "5.Filter negative quantities and prices in column Quantity and UnitPrice.\n",
        "\n",
        "6.Filter values more than 10,000.\n",
        "\n",
        "7.Converting CustomerID to integer.\n",
        "\n",
        "8.Extract date and time components for invoice date.\n",
        "\n",
        "9.create a total price column.\n",
        "\n",
        "\n",
        "**Grouping and aggregating data**\n",
        "10.Total sales by country.\n",
        "\n",
        "11.Avg quantity purchased per customer.\n",
        "\n",
        "12.Number of transactions per customer.\n",
        "\n",
        "13.Split data by year.\n",
        "\n",
        "**Handling text data**\n",
        "\n",
        "14.Remove special characters."
      ],
      "metadata": {
        "id": "LbyXE7I1olp8"
      }
    },
    {
      "cell_type": "markdown",
      "source": [
        "## ***4. Data Vizualization, Storytelling & Experimenting with charts : Understand the relationships between variables***"
      ],
      "metadata": {
        "id": "GF8Ens_Soomf"
      }
    },
    {
      "cell_type": "markdown",
      "source": [
        "#### Chart - 1"
      ],
      "metadata": {
        "id": "0wOQAZs5pc--"
      }
    },
    {
      "cell_type": "code",
      "source": [
        "# Chart - 1 visualization code\n",
        "# Line chart which shows daily , monthly or yearly sales trends\n",
        "df.set_index('InvoiceDate')['TotalPrice'].resample('M').sum().plot(kind='line', title='Monthly Sales Trend')"
      ],
      "metadata": {
        "id": "7v_ESjsspbW7"
      },
      "execution_count": null,
      "outputs": []
    },
    {
      "cell_type": "markdown",
      "source": [
        "##### 1. Why did you pick the specific chart?"
      ],
      "metadata": {
        "id": "K5QZ13OEpz2H"
      }
    },
    {
      "cell_type": "markdown",
      "source": [
        "Line chart: To analyze trends and patterns over time."
      ],
      "metadata": {
        "id": "XESiWehPqBRc"
      }
    },
    {
      "cell_type": "markdown",
      "source": [
        "##### 2. What is/are the insight(s) found from the chart?"
      ],
      "metadata": {
        "id": "lQ7QKXXCp7Bj"
      }
    },
    {
      "cell_type": "markdown",
      "source": [
        "November month has most sales compared to other months."
      ],
      "metadata": {
        "id": "C_j1G7yiqdRP"
      }
    },
    {
      "cell_type": "markdown",
      "source": [
        "##### 3. Will the gained insights help creating a positive business impact?\n",
        "Are there any insights that lead to negative growth? Justify with specific reason."
      ],
      "metadata": {
        "id": "448CDAPjqfQr"
      }
    },
    {
      "cell_type": "markdown",
      "source": [
        "Yes the following insight will create a positive business impact because sales has started increasing from August month and declined in December month.\n",
        "Over the period of these four months customer is interested in buying goods as compared to other months so this gives an Idea to the company that what kind of products they are selling in these months and they should provide same kind og goods throughout the year."
      ],
      "metadata": {
        "id": "3cspy4FjqxJW"
      }
    },
    {
      "cell_type": "markdown",
      "source": [
        "#### Chart - 2"
      ],
      "metadata": {
        "id": "KSlN3yHqYklG"
      }
    },
    {
      "cell_type": "code",
      "source": [
        "# Chart - 2 visualization code\n",
        "# Area chart\n",
        "df.set_index('InvoiceDate')['TotalPrice'].cumsum().plot(kind='area', title = 'Cumulative sales over time')"
      ],
      "metadata": {
        "id": "R4YgtaqtYklH"
      },
      "execution_count": null,
      "outputs": []
    },
    {
      "cell_type": "markdown",
      "source": [
        "##### 1. Why did you pick the specific chart?"
      ],
      "metadata": {
        "id": "t6dVpIINYklI"
      }
    },
    {
      "cell_type": "markdown",
      "source": [
        "Area chart: To visualize cumulative sales over time."
      ],
      "metadata": {
        "id": "5aaW0BYyYklI"
      }
    },
    {
      "cell_type": "markdown",
      "source": [
        "##### 2. What is/are the insight(s) found from the chart?"
      ],
      "metadata": {
        "id": "ijmpgYnKYklI"
      }
    },
    {
      "cell_type": "markdown",
      "source": [
        "Cumulative sales are increasing consecutively every month."
      ],
      "metadata": {
        "id": "PSx9atu2YklI"
      }
    },
    {
      "cell_type": "markdown",
      "source": [
        "##### 3. Will the gained insights help creating a positive business impact?\n",
        "Are there any insights that lead to negative growth? Justify with specific reason."
      ],
      "metadata": {
        "id": "-JiQyfWJYklI"
      }
    },
    {
      "cell_type": "markdown",
      "source": [
        "Positive business impact.\n",
        "\n",
        "1. Identifies growth trends\n",
        "\n",
        "2. Seasonal patterns.\n",
        "\n",
        "3. Impact of business decisions.\n",
        "\n",
        "4. Forecasting future sales.\n",
        "\n",
        "\n",
        "\n",
        "Negative Growth Insights.\n",
        "\n",
        "1. Declining Sales Trend\n",
        "\n",
        "2. Sudden Drops in Sales\n",
        "\n",
        "3. Ineffective Campaigns or Strategies\n",
        "\n",
        "4. Stagnation\n",
        "\n"
      ],
      "metadata": {
        "id": "BcBbebzrYklV"
      }
    },
    {
      "cell_type": "markdown",
      "source": [
        "#### Chart - 3"
      ],
      "metadata": {
        "id": "EM7whBJCYoAo"
      }
    },
    {
      "cell_type": "code",
      "source": [
        "# Chart - 3 visualization code\n",
        "df.groupby('Country')['TotalPrice'].sum().plot(kind='bar', title='Total sales by country')"
      ],
      "metadata": {
        "id": "t6GMdE67YoAp"
      },
      "execution_count": null,
      "outputs": []
    },
    {
      "cell_type": "markdown",
      "source": [
        "##### 1. Why did you pick the specific chart?"
      ],
      "metadata": {
        "id": "fge-S5ZAYoAp"
      }
    },
    {
      "cell_type": "markdown",
      "source": [
        "Bar chart: To compare total sales by country."
      ],
      "metadata": {
        "id": "5dBItgRVYoAp"
      }
    },
    {
      "cell_type": "markdown",
      "source": [
        "##### 2. What is/are the insight(s) found from the chart?"
      ],
      "metadata": {
        "id": "85gYPyotYoAp"
      }
    },
    {
      "cell_type": "markdown",
      "source": [
        "Top-Performing Countries:\n",
        "\n",
        "The chart will highlight which countries contribute the most to total sales.\n",
        "\n",
        "Insight: Identifying top-performing countries helps the business:\n",
        "\n",
        "Focus marketing efforts and resources on high-revenue regions.\n",
        "\n",
        "Understand regional preferences and tailor products/services accordingly.\n",
        "\n",
        "Underperforming Countries:\n",
        "\n",
        "The chart will also show countries with low sales.\n",
        "\n",
        "Insight: Underperforming countries may indicate:\n",
        "\n",
        "Lack of market penetration.\n",
        "\n",
        "Cultural or regulatory barriers.\n",
        "\n",
        "Ineffective marketing or distribution strategies.\n",
        "\n",
        "Action: The business can:\n",
        "\n",
        "Investigate the reasons for low sales.\n",
        "\n",
        "Develop targeted campaigns to boost sales in these regions.\n",
        "\n",
        "Market Potential:\n",
        "\n",
        "Comparing sales across countries can reveal untapped markets.\n",
        "\n",
        "Insight: Countries with moderate sales but high growth potential can be prioritized for expansion.\n",
        "\n",
        "Regional Preferences:\n",
        "\n",
        "Differences in sales across countries may reflect regional preferences.\n",
        "\n",
        "Insight: The business can:\n",
        "\n",
        "Customize product offerings to match local tastes.\n",
        "\n",
        "Adjust pricing strategies based on purchasing power."
      ],
      "metadata": {
        "id": "4jstXR6OYoAp"
      }
    },
    {
      "cell_type": "markdown",
      "source": [
        "##### 3. Will the gained insights help creating a positive business impact?\n",
        "Are there any insights that lead to negative growth? Justify with specific reason."
      ],
      "metadata": {
        "id": "RoGjAbkUYoAp"
      }
    },
    {
      "cell_type": "markdown",
      "source": [
        "Yes, the insights gained from a Bar Chart comparing total sales by country or product category can significantly contribute to creating a positive business impact. Here's how:\n",
        "\n",
        "1. Focus on High-Performing Markets or Products:\n",
        "Insight: Identifying top-performing countries or product categories.\n",
        "\n",
        "Positive Impact:\n",
        "\n",
        "The business can allocate more resources (e.g., marketing, inventory, staffing) to these areas to maximize revenue.\n",
        "\n",
        "For example, if the UK generates 80% of sales, the business can focus on expanding its presence there or launching new products tailored to UK customers.\n",
        "\n",
        "2. Improve Underperforming Markets or Products:\n",
        "Insight: Identifying countries or product categories with low sales.\n",
        "\n",
        "Positive Impact:\n",
        "\n",
        "The business can investigate the reasons for underperformance (e.g., lack of awareness, poor product-market fit) and take corrective actions.\n",
        "\n",
        "For example, if \"Men's Shoes\" contribute only 5% of sales, the business can revamp the product line, improve marketing, or offer discounts to boost sales.\n",
        "\n",
        "3. Optimize Product Mix:\n",
        "Insight: Understanding the contribution of each product category to total sales.\n",
        "\n",
        "Positive Impact:\n",
        "\n",
        "The business can diversify its product portfolio to reduce reliance on a single category.\n",
        "\n",
        "For example, if \"Women's Dresses\" account for 40% of sales, the business can introduce complementary products like accessories or footwear to increase revenue.\n",
        "\n",
        "4. Regional Customization:\n",
        "Insight: Recognizing regional preferences and purchasing behavior.\n",
        "\n",
        "Positive Impact:\n",
        "\n",
        "The business can tailor its offerings to match local tastes and preferences.\n",
        "\n",
        "For example, if customers in Germany prefer eco-friendly products, the business can introduce sustainable product lines in that region.\n",
        "\n",
        "5. Strategic Decision-Making:\n",
        "Insight: Identifying trends and patterns in sales data.\n",
        "\n",
        "Positive Impact:\n",
        "\n",
        "The business can make informed decisions about inventory management, pricing strategies, and marketing campaigns.\n",
        "\n",
        "For example, if sales peak during the holiday season, the business can plan promotions and stock up on inventory in advance.\n",
        "\n",
        "Are There Any Insights That Lead to Negative Growth?\n",
        "Yes, some insights from the bar chart could indicate potential negative growth or risks to the business. Here are a few examples, along with justifications:\n",
        "\n",
        "1. Over-Reliance on a Single Market or Product:\n",
        "Insight: A significant portion of sales comes from one country or product category (e.g., 80% of sales from the UK or 40% from \"Women's Dresses\").\n",
        "\n",
        "Negative Impact:\n",
        "\n",
        "This creates a high dependency risk. If the UK market faces an economic downturn or if \"Women's Dresses\" fall out of fashion, the business could experience a significant revenue drop.\n",
        "\n",
        "Justification:\n",
        "\n",
        "Lack of diversification makes the business vulnerable to external shocks.\n",
        "\n",
        "2. Underperforming Markets or Products:\n",
        "Insight: Certain countries or product categories contribute very little to total sales (e.g., Germany contributes only 10% of sales, or \"Men's Shoes\" contribute only 5%).\n",
        "\n",
        "Negative Impact:\n",
        "\n",
        "This indicates missed opportunities or ineffective strategies in these areas.\n",
        "\n",
        "Justification:\n",
        "\n",
        "If the business fails to address underperformance, it may lose market share to competitors or waste resources on unprofitable products.\n",
        "\n",
        "3. Declining Sales in Key Markets or Categories:\n",
        "Insight: Sales in a previously high-performing country or product category are declining over time.\n",
        "\n",
        "Negative Impact:\n",
        "\n",
        "This could signal changing customer preferences, increased competition, or market saturation.\n",
        "\n",
        "Justification:\n",
        "\n",
        "If the business does not adapt to these changes, it may experience sustained negative growth.\n",
        "\n",
        "4. Lack of Market Penetration:\n",
        "Insight: Sales in certain countries are negligible or nonexistent.\n",
        "\n",
        "Negative Impact:\n",
        "\n",
        "This indicates untapped potential or barriers to entry (e.g., regulatory challenges, lack of brand awareness).\n",
        "\n",
        "Justification:\n",
        "\n",
        "If the business does not address these barriers, it may miss out on growth opportunities in emerging markets.\n",
        "\n",
        "5. Inefficient Resource Allocation:\n",
        "Insight: Resources are disproportionately allocated to low-performing markets or products.\n",
        "\n",
        "Negative Impact:\n",
        "\n",
        "This leads to wasted resources and reduced profitability.\n",
        "\n",
        "Justification:\n",
        "\n",
        "For example, if the business spends heavily on marketing \"Men's Shoes\" (which contribute only 5% of sales), it may not achieve a positive return on investment."
      ],
      "metadata": {
        "id": "zfJ8IqMcYoAp"
      }
    },
    {
      "cell_type": "markdown",
      "source": [
        "#### Chart - 4"
      ],
      "metadata": {
        "id": "4Of9eVA-YrdM"
      }
    },
    {
      "cell_type": "code",
      "source": [
        "# Chart - 4 visualization code\n",
        "df.groupby(['InvoiceMonth', 'Country'])['TotalPrice'].sum().unstack().plot(kind='bar', stacked=True, title='Monthly sales by country')"
      ],
      "metadata": {
        "id": "irlUoxc8YrdO"
      },
      "execution_count": null,
      "outputs": []
    },
    {
      "cell_type": "markdown",
      "source": [
        "##### 1. Why did you pick the specific chart?"
      ],
      "metadata": {
        "id": "iky9q4vBYrdO"
      }
    },
    {
      "cell_type": "markdown",
      "source": [
        "Stacked bar chart: Shows sales breakdown by country over time."
      ],
      "metadata": {
        "id": "aJRCwT6DYrdO"
      }
    },
    {
      "cell_type": "markdown",
      "source": [
        "##### 2. What is/are the insight(s) found from the chart?"
      ],
      "metadata": {
        "id": "F6T5p64dYrdO"
      }
    },
    {
      "cell_type": "markdown",
      "source": [
        "Regional Sales Trends:\n",
        "\n",
        "The chart shows how sales in different countries change over time.\n",
        "\n",
        "Insight: Identifying which regions are growing, declining, or remaining stable.\n",
        "\n",
        "For example, if sales in the UK are growing while sales in Germany are declining, the business can focus on strengthening its presence in the UK and addressing issues in Germany.\n",
        "\n",
        "Market Potential:\n",
        "\n",
        "The chart can reveal untapped potential in specific regions.\n",
        "\n",
        "Insight: If a country shows consistent growth, it may indicate a lucrative market for expansion.\n",
        "\n",
        "For example, if sales in France are steadily increasing, the business can invest more in marketing and distribution there.\n",
        "\n",
        "Regional Preferences:\n",
        "\n",
        "The chart can highlight differences in regional preferences.\n",
        "\n",
        "Insight: Certain products may perform better in specific countries.\n",
        "\n",
        "For example, if \"Winter Coats\" sell well in colder regions, the business can tailor its offerings to match local preferences.\n",
        "\n",
        "Impact of Economic or Cultural Factors:\n",
        "\n",
        "The chart can reveal the impact of external factors (e.g., economic downturns, cultural events) on regional sales.\n",
        "\n",
        "Insight: If sales in a country drop suddenly, it may be due to external factors like a recession or regulatory changes.\n",
        "\n",
        "This helps the business adapt its strategies to mitigate risks."
      ],
      "metadata": {
        "id": "Xx8WAJvtYrdO"
      }
    },
    {
      "cell_type": "markdown",
      "source": [
        "##### 3. Will the gained insights help creating a positive business impact?\n",
        "Are there any insights that lead to negative growth? Justify with specific reason."
      ],
      "metadata": {
        "id": "y-Ehk30pYrdP"
      }
    },
    {
      "cell_type": "markdown",
      "source": [
        "Yes, the insights gained from a Stacked Bar Chart showing sales breakdown by product category or country over time can significantly contribute to creating a positive business impact. Here's how:\n",
        "\n",
        "1. Optimize Inventory Management:\n",
        "Insight: Identifying seasonal trends in product sales (e.g., \"Winter Coats\" sell more in winter).\n",
        "\n",
        "Positive Impact:\n",
        "\n",
        "The business can stock inventory according to seasonal demand, reducing overstocking or stockouts.\n",
        "\n",
        "For example, increasing stock of \"Women's Dresses\" in summer and \"Winter Coats\" in winter.\n",
        "\n",
        "2. Targeted Marketing Campaigns:\n",
        "Insight: Understanding which products or regions drive sales growth.\n",
        "\n",
        "Positive Impact:\n",
        "\n",
        "The business can allocate marketing budgets to high-performing products or regions.\n",
        "\n",
        "For example, if \"Women's Dresses\" are a top-selling category, the business can run targeted ads to promote them.\n",
        "\n",
        "3. Regional Expansion Strategies:\n",
        "Insight: Identifying countries with consistent sales growth (e.g., the UK shows steady growth).\n",
        "\n",
        "Positive Impact:\n",
        "\n",
        "The business can focus on expanding its presence in high-growth regions.\n",
        "\n",
        "For example, opening new stores or increasing marketing efforts in the UK.\n",
        "\n",
        "4. Product Portfolio Optimization:\n",
        "Insight: Recognizing which product categories contribute the most to sales.\n",
        "\n",
        "Positive Impact:\n",
        "\n",
        "The business can focus on high-performing categories and discontinue or revamp underperforming ones.\n",
        "\n",
        "For example, if \"Men's Shoes\" contribute only 5% of sales, the business can introduce new designs or offer discounts to boost sales.\n",
        "\n",
        "5. Strategic Decision-Making:\n",
        "Insight: Understanding the impact of external factors (e.g., economic downturns, cultural events) on sales.\n",
        "\n",
        "Positive Impact:\n",
        "\n",
        "The business can adapt its strategies to mitigate risks and capitalize on opportunities.\n",
        "\n",
        "For example, if sales in Germany decline due to a recession, the business can offer discounts or focus on cost-effective products.\n",
        "\n",
        "Are There Any Insights That Lead to Negative Growth?\n",
        "Yes, some insights from the stacked bar chart could indicate potential negative growth or risks to the business. Here are a few examples, along with justifications:\n",
        "\n",
        "1. Declining Sales in Key Categories or Regions:\n",
        "Insight: Sales of a previously high-performing product category or region are declining over time (e.g., \"Men's Shoes\" or Germany).\n",
        "\n",
        "Negative Impact:\n",
        "\n",
        "This could signal changing customer preferences, increased competition, or market saturation.\n",
        "\n",
        "Justification:\n",
        "\n",
        "If the business does not address the decline, it may lose market share and revenue.\n",
        "\n",
        "2. Over-Reliance on a Single Category or Region:\n",
        "Insight: A significant portion of sales comes from one product category or region (e.g., 50% of sales from \"Women's Dresses\" or 80% from the UK).\n",
        "\n",
        "Negative Impact:\n",
        "\n",
        "This creates a high dependency risk. If the category or region faces challenges (e.g., changing trends, economic downturns), the business could experience a significant revenue drop.\n",
        "\n",
        "Justification:\n",
        "\n",
        "Lack of diversification makes the business vulnerable to external shocks.\n",
        "\n",
        "3. Seasonal Dependence:\n",
        "Insight: Sales are heavily dependent on specific seasons (e.g., \"Winter Coats\" sell only in winter).\n",
        "\n",
        "Negative Impact:\n",
        "\n",
        "The business may struggle to maintain consistent revenue throughout the year.\n",
        "\n",
        "Justification:\n",
        "\n",
        "Over-reliance on seasonal products can lead to cash flow issues during off-seasons.\n",
        "\n",
        "4. Underperforming Categories or Regions:\n",
        "Insight: Certain product categories or regions contribute very little to total sales (e.g., \"Men's Shoes\" contribute only 5% of sales, or France contributes only 2%).\n",
        "\n",
        "Negative Impact:\n",
        "\n",
        "This indicates missed opportunities or ineffective strategies in these areas.\n",
        "\n",
        "Justification:\n",
        "\n",
        "If the business fails to address underperformance, it may waste resources and miss out on potential growth.\n",
        "\n",
        "5. External Factors Impacting Sales:\n",
        "Insight: Sales in a specific region decline due to external factors (e.g., economic recession, regulatory changes).\n",
        "\n",
        "Negative Impact:\n",
        "\n",
        "The business may experience sustained negative growth in that region.\n",
        "\n",
        "Justification:\n",
        "\n",
        "If the business does not adapt to external challenges, it may lose market share and revenue."
      ],
      "metadata": {
        "id": "jLNxxz7MYrdP"
      }
    },
    {
      "cell_type": "markdown",
      "source": [
        "#### Chart - 5"
      ],
      "metadata": {
        "id": "bamQiAODYuh1"
      }
    },
    {
      "cell_type": "code",
      "source": [
        "# Chart - 5 visualization code\n",
        "df['CustomerID'].value_counts().plot(kind='hist', bins=50, title='Customer purchase frequency distribution')"
      ],
      "metadata": {
        "id": "TIJwrbroYuh3"
      },
      "execution_count": null,
      "outputs": []
    },
    {
      "cell_type": "markdown",
      "source": [
        "##### 1. Why did you pick the specific chart?"
      ],
      "metadata": {
        "id": "QHF8YVU7Yuh3"
      }
    },
    {
      "cell_type": "markdown",
      "source": [
        "Histogram: To analyze the distribution of customer purchase frequencies."
      ],
      "metadata": {
        "id": "dcxuIMRPYuh3"
      }
    },
    {
      "cell_type": "markdown",
      "source": [
        "##### 2. What is/are the insight(s) found from the chart?"
      ],
      "metadata": {
        "id": "GwzvFGzlYuh3"
      }
    },
    {
      "cell_type": "markdown",
      "source": [
        "Customer Segmentation:\n",
        "\n",
        "The histogram reveals distinct groups of customers based on their purchase frequencies.\n",
        "\n",
        "Insight: Customers can be segmented into:\n",
        "\n",
        "Frequent Buyers: Customers who make purchases very often (e.g., weekly or monthly).\n",
        "\n",
        "Occasional Buyers: Customers who make purchases occasionally (e.g., quarterly).\n",
        "\n",
        "One-Time Buyers: Customers who make only one purchase.\n",
        "\n",
        "Implication: The business can tailor marketing strategies for each segment (e.g., loyalty programs for frequent buyers, re-engagement campaigns for one-time buyers).\n",
        "\n",
        "Customer Loyalty:\n",
        "\n",
        "The histogram shows how many customers are loyal (frequent buyers) versus those who are not.\n",
        "\n",
        "Insight: A large number of frequent buyers indicates strong customer loyalty.\n",
        "\n",
        "Implication: The business can focus on retaining these loyal customers through rewards, discounts, or personalized offers.\n",
        "\n",
        "Revenue Contribution:\n",
        "\n",
        "The histogram helps identify which customer segments contribute the most to revenue.\n",
        "\n",
        "Insight: Frequent buyers may account for a significant portion of total revenue, even if they are a small percentage of the customer base.\n",
        "\n",
        "Implication: The business can prioritize retaining and upselling to these high-value customers.\n",
        "\n",
        "Churn Risk:\n",
        "\n",
        "The histogram can reveal the proportion of one-time or infrequent buyers.\n",
        "\n",
        "Insight: A large number of one-time buyers indicates a high churn rate.\n",
        "\n",
        "Implication: The business should investigate why these customers are not returning and implement strategies to re-engage them (e.g., follow-up emails, special offers).\n",
        "\n",
        "Purchase Behavior Trends:\n",
        "\n",
        "The histogram can show trends in purchase frequencies over time.\n",
        "\n",
        "Insight: If the number of frequent buyers is increasing, it indicates growing customer loyalty.\n",
        "\n",
        "Implication: The business can analyze what is driving this trend (e.g., successful marketing campaigns, improved customer experience) and replicate it.\n",
        "\n",
        "Targeted Marketing Opportunities:\n",
        "\n",
        "The histogram helps identify customer segments that are underperforming.\n",
        "\n",
        "Insight: If a large group of customers makes only one purchase, they represent an opportunity for re-engagement.\n",
        "\n",
        "Implication: The business can create targeted campaigns to convert one-time buyers into repeat customers."
      ],
      "metadata": {
        "id": "uyqkiB8YYuh3"
      }
    },
    {
      "cell_type": "markdown",
      "source": [
        "##### 3. Will the gained insights help creating a positive business impact?\n",
        "Are there any insights that lead to negative growth? Justify with specific reason."
      ],
      "metadata": {
        "id": "qYpmQ266Yuh3"
      }
    },
    {
      "cell_type": "markdown",
      "source": [
        "Yes, the insights gained from a Histogram analyzing the distribution of customer purchase frequencies can significantly contribute to creating a positive business impact. Here's how:\n",
        "\n",
        "1. Improved Customer Retention:\n",
        "Insight: Identifying frequent buyers and their purchasing patterns.\n",
        "\n",
        "Positive Impact:\n",
        "\n",
        "The business can implement loyalty programs or personalized offers to retain these high-value customers.\n",
        "\n",
        "For example, offering exclusive discounts or early access to new products can increase customer loyalty.\n",
        "\n",
        "2. Targeted Marketing Campaigns:\n",
        "Insight: Segmenting customers into frequent, occasional, and one-time buyers.\n",
        "\n",
        "Positive Impact:\n",
        "\n",
        "The business can create targeted campaigns for each segment:\n",
        "\n",
        "Frequent Buyers: Reward them with loyalty points or VIP perks.\n",
        "\n",
        "Occasional Buyers: Encourage repeat purchases with special offers.\n",
        "\n",
        "One-Time Buyers: Re-engage them with follow-up emails or discounts.\n",
        "\n",
        "This improves marketing efficiency and maximizes ROI.\n",
        "\n",
        "3. Increased Customer Lifetime Value (CLV):\n",
        "Insight: Understanding which customer segments contribute the most to revenue.\n",
        "\n",
        "Positive Impact:\n",
        "\n",
        "The business can focus on upselling and cross-selling to high-value customers, increasing their CLV.\n",
        "\n",
        "For example, recommending complementary products to frequent buyers can boost sales.\n",
        "\n",
        "4. Reduced Churn Rate:\n",
        "Insight: Identifying one-time buyers who are at risk of churn.\n",
        "\n",
        "Positive Impact:\n",
        "\n",
        "The business can implement re-engagement strategies to convert one-time buyers into repeat customers.\n",
        "\n",
        "For example, sending personalized emails or offering discounts on their next purchase can reduce churn.\n",
        "\n",
        "5. Optimized Resource Allocation:\n",
        "Insight: Recognizing which customer segments are most profitable.\n",
        "\n",
        "Positive Impact:\n",
        "\n",
        "The business can allocate resources (e.g., marketing budget, inventory) to high-performing segments.\n",
        "\n",
        "This ensures efficient use of resources and maximizes profitability.\n",
        "\n",
        "Are There Any Insights That Lead to Negative Growth?\n",
        "Yes, some insights from the histogram could indicate potential negative growth or risks to the business. Here are a few examples, along with justifications:\n",
        "\n",
        "1. High Proportion of One-Time Buyers:\n",
        "Insight: A large peak at 1 purchase in the histogram.\n",
        "\n",
        "Negative Impact:\n",
        "\n",
        "This indicates a high churn rate, meaning many customers do not return after their first purchase.\n",
        "\n",
        "Justification:\n",
        "\n",
        "If the business fails to re-engage these customers, it may struggle to grow its customer base and revenue.\n",
        "\n",
        "Action:\n",
        "\n",
        "Investigate why customers are not returning (e.g., poor product quality, lack of follow-up).\n",
        "\n",
        "Implement re-engagement campaigns (e.g., discounts, personalized emails).\n",
        "\n",
        "2. Low Number of Frequent Buyers:\n",
        "Insight: A small or nonexistent peak at higher purchase frequencies (e.g., 10+ purchases).\n",
        "\n",
        "Negative Impact:\n",
        "\n",
        "This indicates low customer loyalty, meaning the business relies heavily on new customers rather than repeat purchases.\n",
        "\n",
        "Justification:\n",
        "\n",
        "Acquiring new customers is more expensive than retaining existing ones. A lack of loyal customers can lead to higher marketing costs and lower profitability.\n",
        "\n",
        "Action:\n",
        "\n",
        "Focus on building customer loyalty through rewards, personalized experiences, and excellent customer service.\n",
        "\n",
        "3. Skewed Distribution:\n",
        "Insight: The histogram is heavily skewed toward low purchase frequencies (e.g., most customers make only 1-2 purchases).\n",
        "\n",
        "Negative Impact:\n",
        "\n",
        "This indicates that the business is over-reliant on infrequent buyers, which is unsustainable for long-term growth.\n",
        "\n",
        "Justification:\n",
        "\n",
        "Infrequent buyers contribute less to revenue and are more likely to churn.\n",
        "\n",
        "Action:\n",
        "\n",
        "Develop strategies to increase purchase frequency (e.g., subscription models, bundling products).\n",
        "\n",
        "4. Declining Purchase Frequencies Over Time:\n",
        "Insight: A trend of decreasing purchase frequencies in the histogram over time.\n",
        "\n",
        "Negative Impact:\n",
        "\n",
        "This indicates that customers are becoming less engaged or less satisfied with the business.\n",
        "\n",
        "Justification:\n",
        "\n",
        "Declining engagement can lead to reduced revenue and market share.\n",
        "\n",
        "Action:\n",
        "\n",
        "Investigate the root cause (e.g., poor customer experience, increased competition).\n",
        "\n",
        "Implement improvements to re-engage customers (e.g., better products, enhanced customer service)."
      ],
      "metadata": {
        "id": "_WtzZ_hCYuh4"
      }
    },
    {
      "cell_type": "markdown",
      "source": [
        "#### Chart - 6"
      ],
      "metadata": {
        "id": "OH-pJp9IphqM"
      }
    },
    {
      "cell_type": "code",
      "source": [
        "# Chart - 6 visualization code"
      ],
      "metadata": {
        "id": "kuRf4wtuphqN"
      },
      "execution_count": null,
      "outputs": []
    },
    {
      "cell_type": "markdown",
      "source": [
        "##### 1. Why did you pick the specific chart?"
      ],
      "metadata": {
        "id": "bbFf2-_FphqN"
      }
    },
    {
      "cell_type": "markdown",
      "source": [
        "Answer Here."
      ],
      "metadata": {
        "id": "loh7H2nzphqN"
      }
    },
    {
      "cell_type": "markdown",
      "source": [
        "##### 2. What is/are the insight(s) found from the chart?"
      ],
      "metadata": {
        "id": "_ouA3fa0phqN"
      }
    },
    {
      "cell_type": "markdown",
      "source": [
        "Answer Here"
      ],
      "metadata": {
        "id": "VECbqPI7phqN"
      }
    },
    {
      "cell_type": "markdown",
      "source": [
        "##### 3. Will the gained insights help creating a positive business impact?\n",
        "Are there any insights that lead to negative growth? Justify with specific reason."
      ],
      "metadata": {
        "id": "Seke61FWphqN"
      }
    },
    {
      "cell_type": "markdown",
      "source": [
        "Answer Here"
      ],
      "metadata": {
        "id": "DW4_bGpfphqN"
      }
    },
    {
      "cell_type": "markdown",
      "source": [
        "#### Chart - 7"
      ],
      "metadata": {
        "id": "PIIx-8_IphqN"
      }
    },
    {
      "cell_type": "code",
      "source": [
        "# Chart - 7 visualization code"
      ],
      "metadata": {
        "id": "lqAIGUfyphqO"
      },
      "execution_count": null,
      "outputs": []
    },
    {
      "cell_type": "markdown",
      "source": [
        "##### 1. Why did you pick the specific chart?"
      ],
      "metadata": {
        "id": "t27r6nlMphqO"
      }
    },
    {
      "cell_type": "markdown",
      "source": [
        "Answer Here."
      ],
      "metadata": {
        "id": "iv6ro40sphqO"
      }
    },
    {
      "cell_type": "markdown",
      "source": [
        "##### 2. What is/are the insight(s) found from the chart?"
      ],
      "metadata": {
        "id": "r2jJGEOYphqO"
      }
    },
    {
      "cell_type": "markdown",
      "source": [
        "Answer Here"
      ],
      "metadata": {
        "id": "Po6ZPi4hphqO"
      }
    },
    {
      "cell_type": "markdown",
      "source": [
        "##### 3. Will the gained insights help creating a positive business impact?\n",
        "Are there any insights that lead to negative growth? Justify with specific reason."
      ],
      "metadata": {
        "id": "b0JNsNcRphqO"
      }
    },
    {
      "cell_type": "markdown",
      "source": [
        "Answer Here"
      ],
      "metadata": {
        "id": "xvSq8iUTphqO"
      }
    },
    {
      "cell_type": "markdown",
      "source": [
        "#### Chart - 8"
      ],
      "metadata": {
        "id": "BZR9WyysphqO"
      }
    },
    {
      "cell_type": "code",
      "source": [
        "# Chart - 8 visualization code"
      ],
      "metadata": {
        "id": "TdPTWpAVphqO"
      },
      "execution_count": null,
      "outputs": []
    },
    {
      "cell_type": "markdown",
      "source": [
        "##### 1. Why did you pick the specific chart?"
      ],
      "metadata": {
        "id": "jj7wYXLtphqO"
      }
    },
    {
      "cell_type": "markdown",
      "source": [
        "Answer Here."
      ],
      "metadata": {
        "id": "Ob8u6rCTphqO"
      }
    },
    {
      "cell_type": "markdown",
      "source": [
        "##### 2. What is/are the insight(s) found from the chart?"
      ],
      "metadata": {
        "id": "eZrbJ2SmphqO"
      }
    },
    {
      "cell_type": "markdown",
      "source": [
        "Answer Here"
      ],
      "metadata": {
        "id": "mZtgC_hjphqO"
      }
    },
    {
      "cell_type": "markdown",
      "source": [
        "##### 3. Will the gained insights help creating a positive business impact?\n",
        "Are there any insights that lead to negative growth? Justify with specific reason."
      ],
      "metadata": {
        "id": "rFu4xreNphqO"
      }
    },
    {
      "cell_type": "markdown",
      "source": [
        "Answer Here"
      ],
      "metadata": {
        "id": "ey_0qi68phqO"
      }
    },
    {
      "cell_type": "markdown",
      "source": [
        "#### Chart - 9"
      ],
      "metadata": {
        "id": "YJ55k-q6phqO"
      }
    },
    {
      "cell_type": "code",
      "source": [
        "# Chart - 9 visualization code"
      ],
      "metadata": {
        "id": "B2aS4O1ophqO"
      },
      "execution_count": null,
      "outputs": []
    },
    {
      "cell_type": "markdown",
      "source": [
        "##### 1. Why did you pick the specific chart?"
      ],
      "metadata": {
        "id": "gCFgpxoyphqP"
      }
    },
    {
      "cell_type": "markdown",
      "source": [
        "Answer Here."
      ],
      "metadata": {
        "id": "TVxDimi2phqP"
      }
    },
    {
      "cell_type": "markdown",
      "source": [
        "##### 2. What is/are the insight(s) found from the chart?"
      ],
      "metadata": {
        "id": "OVtJsKN_phqQ"
      }
    },
    {
      "cell_type": "markdown",
      "source": [
        "Answer Here"
      ],
      "metadata": {
        "id": "ngGi97qjphqQ"
      }
    },
    {
      "cell_type": "markdown",
      "source": [
        "##### 3. Will the gained insights help creating a positive business impact?\n",
        "Are there any insights that lead to negative growth? Justify with specific reason."
      ],
      "metadata": {
        "id": "lssrdh5qphqQ"
      }
    },
    {
      "cell_type": "markdown",
      "source": [
        "Answer Here"
      ],
      "metadata": {
        "id": "tBpY5ekJphqQ"
      }
    },
    {
      "cell_type": "markdown",
      "source": [
        "#### Chart - 10"
      ],
      "metadata": {
        "id": "U2RJ9gkRphqQ"
      }
    },
    {
      "cell_type": "code",
      "source": [
        "# Chart - 10 visualization code"
      ],
      "metadata": {
        "id": "GM7a4YP4phqQ"
      },
      "execution_count": null,
      "outputs": []
    },
    {
      "cell_type": "markdown",
      "source": [
        "##### 1. Why did you pick the specific chart?"
      ],
      "metadata": {
        "id": "1M8mcRywphqQ"
      }
    },
    {
      "cell_type": "markdown",
      "source": [
        "Answer Here."
      ],
      "metadata": {
        "id": "8agQvks0phqQ"
      }
    },
    {
      "cell_type": "markdown",
      "source": [
        "##### 2. What is/are the insight(s) found from the chart?"
      ],
      "metadata": {
        "id": "tgIPom80phqQ"
      }
    },
    {
      "cell_type": "markdown",
      "source": [
        "Answer Here"
      ],
      "metadata": {
        "id": "Qp13pnNzphqQ"
      }
    },
    {
      "cell_type": "markdown",
      "source": [
        "##### 3. Will the gained insights help creating a positive business impact?\n",
        "Are there any insights that lead to negative growth? Justify with specific reason."
      ],
      "metadata": {
        "id": "JMzcOPDDphqR"
      }
    },
    {
      "cell_type": "markdown",
      "source": [
        "Answer Here"
      ],
      "metadata": {
        "id": "R4Ka1PC2phqR"
      }
    },
    {
      "cell_type": "markdown",
      "source": [
        "#### Chart - 11"
      ],
      "metadata": {
        "id": "x-EpHcCOp1ci"
      }
    },
    {
      "cell_type": "code",
      "source": [
        "# Chart - 11 visualization code"
      ],
      "metadata": {
        "id": "mAQTIvtqp1cj"
      },
      "execution_count": null,
      "outputs": []
    },
    {
      "cell_type": "markdown",
      "source": [
        "##### 1. Why did you pick the specific chart?"
      ],
      "metadata": {
        "id": "X_VqEhTip1ck"
      }
    },
    {
      "cell_type": "markdown",
      "source": [
        "Answer Here."
      ],
      "metadata": {
        "id": "-vsMzt_np1ck"
      }
    },
    {
      "cell_type": "markdown",
      "source": [
        "##### 2. What is/are the insight(s) found from the chart?"
      ],
      "metadata": {
        "id": "8zGJKyg5p1ck"
      }
    },
    {
      "cell_type": "markdown",
      "source": [
        "Answer Here"
      ],
      "metadata": {
        "id": "ZYdMsrqVp1ck"
      }
    },
    {
      "cell_type": "markdown",
      "source": [
        "##### 3. Will the gained insights help creating a positive business impact?\n",
        "Are there any insights that lead to negative growth? Justify with specific reason."
      ],
      "metadata": {
        "id": "PVzmfK_Ep1ck"
      }
    },
    {
      "cell_type": "markdown",
      "source": [
        "Answer Here"
      ],
      "metadata": {
        "id": "druuKYZpp1ck"
      }
    },
    {
      "cell_type": "markdown",
      "source": [
        "#### Chart - 12"
      ],
      "metadata": {
        "id": "n3dbpmDWp1ck"
      }
    },
    {
      "cell_type": "code",
      "source": [
        "# Chart - 12 visualization code"
      ],
      "metadata": {
        "id": "bwevp1tKp1ck"
      },
      "execution_count": null,
      "outputs": []
    },
    {
      "cell_type": "markdown",
      "source": [
        "##### 1. Why did you pick the specific chart?"
      ],
      "metadata": {
        "id": "ylSl6qgtp1ck"
      }
    },
    {
      "cell_type": "markdown",
      "source": [
        "Answer Here."
      ],
      "metadata": {
        "id": "m2xqNkiQp1ck"
      }
    },
    {
      "cell_type": "markdown",
      "source": [
        "##### 2. What is/are the insight(s) found from the chart?"
      ],
      "metadata": {
        "id": "ZWILFDl5p1ck"
      }
    },
    {
      "cell_type": "markdown",
      "source": [
        "Answer Here"
      ],
      "metadata": {
        "id": "x-lUsV2mp1ck"
      }
    },
    {
      "cell_type": "markdown",
      "source": [
        "##### 3. Will the gained insights help creating a positive business impact?\n",
        "Are there any insights that lead to negative growth? Justify with specific reason."
      ],
      "metadata": {
        "id": "M7G43BXep1ck"
      }
    },
    {
      "cell_type": "markdown",
      "source": [
        "Answer Here"
      ],
      "metadata": {
        "id": "5wwDJXsLp1cl"
      }
    },
    {
      "cell_type": "markdown",
      "source": [
        "#### Chart - 13"
      ],
      "metadata": {
        "id": "Ag9LCva-p1cl"
      }
    },
    {
      "cell_type": "code",
      "source": [
        "# Chart - 13 visualization code"
      ],
      "metadata": {
        "id": "EUfxeq9-p1cl"
      },
      "execution_count": null,
      "outputs": []
    },
    {
      "cell_type": "markdown",
      "source": [
        "##### 1. Why did you pick the specific chart?"
      ],
      "metadata": {
        "id": "E6MkPsBcp1cl"
      }
    },
    {
      "cell_type": "markdown",
      "source": [
        "Answer Here."
      ],
      "metadata": {
        "id": "V22bRsFWp1cl"
      }
    },
    {
      "cell_type": "markdown",
      "source": [
        "##### 2. What is/are the insight(s) found from the chart?"
      ],
      "metadata": {
        "id": "2cELzS2fp1cl"
      }
    },
    {
      "cell_type": "markdown",
      "source": [
        "Answer Here"
      ],
      "metadata": {
        "id": "ozQPc2_Ip1cl"
      }
    },
    {
      "cell_type": "markdown",
      "source": [
        "##### 3. Will the gained insights help creating a positive business impact?\n",
        "Are there any insights that lead to negative growth? Justify with specific reason."
      ],
      "metadata": {
        "id": "3MPXvC8up1cl"
      }
    },
    {
      "cell_type": "markdown",
      "source": [
        "Answer Here"
      ],
      "metadata": {
        "id": "GL8l1tdLp1cl"
      }
    },
    {
      "cell_type": "markdown",
      "source": [
        "#### Chart - 14 - Correlation Heatmap"
      ],
      "metadata": {
        "id": "NC_X3p0fY2L0"
      }
    },
    {
      "cell_type": "code",
      "source": [
        "# Correlation Heatmap visualization code\n",
        "sns.heatmap(df[['Quantity', 'UnitPrice', 'TotalPrice']].corr(), annot=True, cmap='coolwarm')\n",
        "plt.title('Correlation Heatmap')"
      ],
      "metadata": {
        "id": "xyC9zolEZNRQ"
      },
      "execution_count": null,
      "outputs": []
    },
    {
      "cell_type": "markdown",
      "source": [
        "##### 1. Why did you pick the specific chart?"
      ],
      "metadata": {
        "id": "UV0SzAkaZNRQ"
      }
    },
    {
      "cell_type": "markdown",
      "source": [
        "To visualize correlations between numerical columns."
      ],
      "metadata": {
        "id": "DVPuT8LYZNRQ"
      }
    },
    {
      "cell_type": "markdown",
      "source": [
        "##### 2. What is/are the insight(s) found from the chart?"
      ],
      "metadata": {
        "id": "YPEH6qLeZNRQ"
      }
    },
    {
      "cell_type": "markdown",
      "source": [
        "Strong Positive Correlation between Quantity and TotalPrice:\n",
        "\n",
        "The heatmap shows a strong positive correlation (0.92) between 'Quantity' and 'TotalPrice'.\n",
        "This is intuitive and expected: as the quantity of items purchased increases, the total price of the order naturally increases as well.\n",
        "Weak or No Correlation between UnitPrice and Others:\n",
        "\n",
        "The heatmap indicates a very weak or no correlation between 'UnitPrice' and both 'Quantity' and 'TotalPrice'. The correlation coefficients are close to 0.\n",
        "This suggests that the unit price of an item does not have a significant impact on the quantity purchased or the total price of the order. Customers might buy a wide range of items with varying unit prices, and the total price depends more on the quantity purchased.\n",
        "Implications for Business:\n",
        "\n",
        "Focus on Quantity: Since there's a strong positive correlation between Quantity and TotalPrice, the business should focus on strategies to encourage customers to purchase larger quantities of items. This could involve:\n",
        "\n",
        "Offering volume discounts or promotions (e.g., \"Buy 2, Get 1 Free\").\n",
        "Bundling products together.\n",
        "Recommending complementary items to increase the average order size.\n",
        "Pricing Strategies: The lack of correlation between UnitPrice and TotalPrice suggests that the business might have flexibility in pricing without significantly impacting sales. However, careful consideration is needed, as pricing strategies should align with overall business goals and customer expectations.\n",
        "\n",
        "Product Mix and Recommendations: The weak correlation between UnitPrice and Quantity could indicate that customers purchase a mix of low-priced and high-priced items. The business should consider:\n",
        "\n",
        "Offering a variety of products at different price points to cater to different customer segments.\n",
        "Using data-driven recommendations to suggest related products that customers are likely to purchase together, regardless of their unit prices."
      ],
      "metadata": {
        "id": "bfSqtnDqZNRR"
      }
    },
    {
      "cell_type": "markdown",
      "source": [
        "#### Chart - 15 - Pair Plot"
      ],
      "metadata": {
        "id": "q29F0dvdveiT"
      }
    },
    {
      "cell_type": "code",
      "source": [
        "# Select numerical columns for the pair plot\n",
        "numerical_columns = ['Quantity', 'UnitPrice', 'TotalPrice']  # Replace with your numerical columns\n",
        "\n",
        "# Create the pair plot\n",
        "sns.pairplot(df[numerical_columns])\n",
        "\n",
        "# Add a title\n",
        "plt.suptitle('Pair Plot of Numerical Variables', y=1.02)\n",
        "\n",
        "# Show the plot\n",
        "plt.show()"
      ],
      "metadata": {
        "id": "u0JG1qRKHAz1"
      },
      "execution_count": null,
      "outputs": []
    },
    {
      "cell_type": "markdown",
      "source": [
        "##### 1. Why did you pick the specific chart?"
      ],
      "metadata": {
        "id": "EXh0U9oCveiU"
      }
    },
    {
      "cell_type": "markdown",
      "source": [
        "To show relationships between multiple numerical variables."
      ],
      "metadata": {
        "id": "eMmPjTByveiU"
      }
    },
    {
      "cell_type": "markdown",
      "source": [
        "##### 2. What is/are the insight(s) found from the chart?"
      ],
      "metadata": {
        "id": "22aHeOlLveiV"
      }
    },
    {
      "cell_type": "markdown",
      "source": [
        "Distribution of Individual Variables:\n",
        "\n",
        "Quantity: The histogram for 'Quantity' is likely to be right-skewed, indicating that most orders have relatively small quantities, while a few orders have very large quantities (potential bulk purchases or outliers).\n",
        "UnitPrice: The histogram for 'UnitPrice' might also be right-skewed, showing that most items have lower unit prices, with some higher-priced items.\n",
        "TotalPrice: The histogram for 'TotalPrice' would probably be similar to 'Quantity', right-skewed with most orders having lower total prices and a few having much higher total prices.\n",
        "Relationships between Variables:\n",
        "\n",
        "Quantity vs. TotalPrice: You should see a clear positive linear relationship in the scatter plot between 'Quantity' and 'TotalPrice'. As the quantity of items in an order increases, the total price of the order also increases, which aligns with the strong positive correlation we observed in the heatmap.\n",
        "UnitPrice vs. Quantity/TotalPrice: The scatter plots between 'UnitPrice' and 'Quantity', as well as 'UnitPrice' and 'TotalPrice', are likely to show a more scattered or random pattern, indicating a weak or no correlation, as we also saw in the heatmap. This suggests that the unit price of an item does not strongly influence the quantity purchased or the total price of the order.\n",
        "Potential Outliers: You might observe some outliers in the scatter plots, particularly for 'Quantity' and 'TotalPrice'. These outliers could represent bulk purchases, unusual transactions, or data errors. They should be investigated further to understand their nature.\n",
        "Business Implications and Actions\n",
        "\n",
        "Focus on Quantity-Based Promotions: Since 'Quantity' has a strong influence on 'TotalPrice', the business could implement promotions or strategies to encourage customers to purchase larger quantities. This could involve volume discounts, bundling products, or offering loyalty rewards for higher-quantity purchases.\n",
        "Pricing Flexibility: The weak relationship between 'UnitPrice' and 'TotalPrice' suggests that the business might have some flexibility in adjusting prices without significantly impacting sales. However, pricing strategies should still be carefully considered and aligned with overall business goals and customer expectations.\n",
        "Product Mix and Recommendations: The pair plot might reveal patterns in the relationship between 'UnitPrice' and 'Quantity' that could inform product mix and recommendation strategies. For example, if customers tend to purchase a mix of low-priced and high-priced items, the business could offer a variety of products at different price points and use data-driven recommendations to suggest complementary products regardless of their unit prices.\n",
        "Investigate Outliers: Outliers in the pair plot should be investigated to determine if they represent valid transactions or data errors. If they are errors, they should be corrected or removed from the dataset. If they are valid but unusual transactions, they might provide insights into specific customer segments or product categories."
      ],
      "metadata": {
        "id": "uPQ8RGwHveiV"
      }
    },
    {
      "cell_type": "markdown",
      "source": [
        "## **5. Solution to Business Objective**"
      ],
      "metadata": {
        "id": "JcMwzZxoAimU"
      }
    },
    {
      "cell_type": "markdown",
      "source": [
        "#### What do you suggest the client to achieve Business Objective ?\n",
        "Explain Briefly."
      ],
      "metadata": {
        "id": "8G2x9gOozGDZ"
      }
    },
    {
      "cell_type": "markdown",
      "source": [
        " Enhance Purchasing Trend Analysis and Inventory Management:\n",
        "\n",
        "Seasonal Trends: The line chart and stacked bar chart revealed seasonal sales trends. Analyze sales patterns for different product categories and countries over time to anticipate future demand. Optimize inventory levels to ensure sufficient stock of popular items during peak seasons while minimizing overstocking during slower periods.\n",
        "Product Performance: Evaluate product sales and popularity using visualizations like bar charts. Identify best-selling and underperforming products. Focus on promoting high-performing products and consider discontinuing or revamping underperforming ones.\n",
        "2. Improve Customer Behavior Understanding and Segmentation:\n",
        "\n",
        "Customer Purchase Frequency: The histogram of customer purchase frequency revealed different customer segments (frequent, occasional, one-time buyers). Tailor marketing strategies for each segment. Implement loyalty programs for frequent buyers, offer targeted promotions to occasional buyers, and re-engage one-time buyers with personalized campaigns.\n",
        "Regional Preferences: The stacked bar chart highlighted regional variations in sales. Customize product offerings, promotions, and marketing messages based on customer preferences and cultural factors in different regions.\n",
        "3. Optimize Pricing Strategies:\n",
        "\n",
        "Quantity-Based Pricing: Since 'Quantity' has a strong influence on 'TotalPrice', consider implementing volume discounts or bundling strategies to encourage larger purchases.\n",
        "Price Elasticity: The weak relationship between 'UnitPrice' and 'TotalPrice' suggests some pricing flexibility. Conduct experiments with price adjustments on specific products to understand their impact on sales volume and revenue.\n",
        "4. Streamline Inventory Management:\n",
        "\n",
        "Demand Forecasting: Use historical sales data and trend analysis to predict future demand for products. Optimize stock levels to minimize overstocking and stockouts.\n",
        "Inventory Turnover: Analyze the speed at which inventory is sold. Identify slow-moving products and consider clearance sales or promotions to reduce inventory holding costs.\n",
        "5. Enhance Customer Relationship Management (CRM):\n",
        "\n",
        "Personalized Recommendations: Use customer purchase data to provide personalized product recommendations. Encourage cross-selling and upselling to increase the average order value.\n",
        "Customer Feedback: Implement systems to collect customer feedback and address concerns promptly. Improve customer satisfaction and retention through better customer service."
      ],
      "metadata": {
        "id": "pASKb0qOza21"
      }
    },
    {
      "cell_type": "markdown",
      "source": [
        "# **Conclusion**"
      ],
      "metadata": {
        "id": "gCX9965dhzqZ"
      }
    },
    {
      "cell_type": "markdown",
      "source": [
        "This analysis of Myntra Gifts Ltd.'s online retail data has revealed valuable insights into customer behavior, purchasing trends, and product performance. By leveraging these insights, the company can achieve its business objectives of enhancing marketing strategies, optimizing pricing and inventory management, and improving customer satisfaction. Key findings include:\n",
        "\n",
        "Seasonal sales trends with peaks in November and opportunities to optimize inventory accordingly.\n",
        "Strong correlation between quantity and total price, suggesting potential for volume-based promotions.\n",
        "Weak correlation between unit price and sales, indicating flexibility in pricing strategies.\n",
        "Diverse customer purchase frequencies, enabling targeted marketing for different segments.\n",
        "Regional variations in sales, highlighting the need for customized product offerings and promotions.\n",
        "By implementing data-driven recommendations aligned with these insights, Myntra Gifts Ltd. can improve its operational efficiency, customer retention, and overall business growth in the dynamic e-commerce landscape. Continuous monitoring of data and agile adaptation to market dynamics will be crucial for sustained success."
      ],
      "metadata": {
        "id": "Fjb1IsQkh3yE"
      }
    },
    {
      "cell_type": "markdown",
      "source": [
        "### ***Hurrah! You have successfully completed your EDA Capstone Project !!!***"
      ],
      "metadata": {
        "id": "gIfDvo9L0UH2"
      }
    }
  ]
}